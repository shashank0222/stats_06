{
 "cells": [
  {
   "cell_type": "markdown",
   "id": "0e33d017-4856-4fca-8bbb-2770a0656cb7",
   "metadata": {},
   "source": [
    "Q1: What is the difference between a t-test and a z-test? Provide an example scenario where you would \n",
    "use each type of test."
   ]
  },
  {
   "cell_type": "markdown",
   "id": "8e914c7c-f17f-4d8c-9886-65b4c899e0a0",
   "metadata": {},
   "source": [
    "Solution:"
   ]
  },
  {
   "cell_type": "markdown",
   "id": "4a4ba6bc-f245-4938-8a7b-84835aa99cb5",
   "metadata": {},
   "source": [
    "The main difference between a t-test and a z-test is that a t-test is used when the sample size is small (n < 30) or when the population standard deviation is unknown, while a z-test is used when the sample size is large (n > 30) and the population standard deviation is known12.\n",
    "\n",
    "For example, suppose we want to test whether the mean height of students in a particular school is equal to 5 feet. If we have data on the heights of all students in the school, we can use a z-test since we know the population standard deviation. However, if we only have data on a small sample of students, we would use a t-test since we don’t know the population standard deviation"
   ]
  },
  {
   "cell_type": "code",
   "execution_count": null,
   "id": "7ce655d7-26e3-4a11-ba8a-59e119e4c800",
   "metadata": {},
   "outputs": [],
   "source": []
  },
  {
   "cell_type": "markdown",
   "id": "0a3d7b40-85b8-4e76-ba57-acc98c87ec3f",
   "metadata": {},
   "source": [
    "Q2: Differentiate between one-tailed and two-tailed tests"
   ]
  },
  {
   "cell_type": "markdown",
   "id": "d0b6bcfd-cea6-4b3d-8280-77d2889b09da",
   "metadata": {},
   "source": [
    "Solution:"
   ]
  },
  {
   "cell_type": "markdown",
   "id": "f3880677-3280-401b-8d46-c16d76d8f9f7",
   "metadata": {},
   "source": [
    "A one-tailed test is a statistical hypothesis test in which the alternative hypothesis is directional, meaning that it specifies either an increase or a decrease in the parameter being tested. For example, suppose we want to test whether a new drug is more effective than an existing drug. In this case, the alternative hypothesis would be that the new drug is more effective than the existing drug.\n",
    "\n",
    "On the other hand, a two-tailed test is a statistical hypothesis test in which the alternative hypothesis is non-directional, meaning that it specifies only that the parameter being tested is not equal to a certain value. For example, suppose we want to test whether the mean weight of apples is different from 100 grams. In this case, the alternative hypothesis would be that the mean weight of apples is not equal to 100 grams."
   ]
  },
  {
   "cell_type": "code",
   "execution_count": null,
   "id": "11458b86-a481-4c43-884d-d385da1232ab",
   "metadata": {},
   "outputs": [],
   "source": []
  },
  {
   "cell_type": "markdown",
   "id": "1648bf5d-d052-4e40-9cd9-538f269c3bbe",
   "metadata": {},
   "source": [
    "Q3: Explain the concept of Type 1 and Type 2 errors in hypothesis testing. Provide an example scenario for \n",
    "each type of error."
   ]
  },
  {
   "cell_type": "markdown",
   "id": "fc849f63-4be8-430e-b099-a0c1f4ca646f",
   "metadata": {},
   "source": [
    "Solution:"
   ]
  },
  {
   "cell_type": "markdown",
   "id": "ece915a4-4e93-40ba-ae5c-c4d08e6eec3d",
   "metadata": {},
   "source": [
    "In hypothesis testing, a Type I error occurs when a null hypothesis is rejected when it is actually true. This is also known as a false positive. For example, suppose a medical test is designed to detect a certain disease. A Type I error would occur if the test indicates that the patient has the disease when they actually do not.\n",
    "\n",
    "On the other hand, a Type II error occurs when a null hypothesis is not rejected when it is actually false. This is also known as a false negative. For example, suppose a medical test is designed to detect a certain disease. A Type II error would occur if the test indicates that the patient does not have the disease when they actually do.\n",
    "\n",
    "The probability of making a Type I error is denoted by alpha (α), while the probability of making a Type II error is denoted by beta (β). The power of a statistical test is defined as  1 - β and represents the probability of correctly rejecting the null hypothesis when it is actually false."
   ]
  },
  {
   "cell_type": "code",
   "execution_count": null,
   "id": "19fdc52c-202e-4c11-8a0b-e52e32194d5f",
   "metadata": {},
   "outputs": [],
   "source": []
  },
  {
   "cell_type": "markdown",
   "id": "c7dbc85c-56a3-4177-a4b2-3ab46714fdd8",
   "metadata": {},
   "source": [
    "Q4:  Explain Bayes's theorem with an example."
   ]
  },
  {
   "cell_type": "markdown",
   "id": "a507720d-a2c5-4cac-a59e-ba4027f0e172",
   "metadata": {},
   "source": [
    "Solution:"
   ]
  },
  {
   "cell_type": "markdown",
   "id": "d995b388-c4e2-4ad8-a010-2e967215d31a",
   "metadata": {},
   "source": [
    "Bayes’ theorem states that the probability of an event occurring given that another event has occurred is equal to the probability of both events occurring divided by the probability of the second event occurring\n",
    "\n",
    "Suppose you are a doctor and you have a patient who has tested positive for a certain disease. The test is known to be 99% accurate, meaning that if someone has the disease, there is a 99% chance that the test will be positive. However, if someone does not have the disease, there is still a 1% chance that the test will be positive. The prevalence of the disease in the population is 1 in 1000 people.\n",
    "\n",
    "Using Bayes’ theorem, we can calculate the probability that the patient actually has the disease given that they have tested positive. Let A be the event that the patient has the disease and B be the event that they test positive. Then we want to calculate P(A|B), which is the probability that the patient has the disease given that they have tested positive.\n",
    "\n",
    "Using Bayes’ theorem, we have:\n",
    "\n",
    "P(A|B) = P(B|A) * P(A) / P(B)\n",
    "\n",
    "where P(B|A) is the probability of testing positive given that the patient has the disease (which is 0.99), P(A) is the prevalence of the disease (which is 0.001), and P(B) is the probability of testing positive (which can be calculated using the law of total probability as P(B|A) * P(A) + P(B|not A) * P(not A), where not A means “does not have the disease”).\n",
    "\n",
    "Plugging in these values, we get:\n",
    "\n",
    "P(A|B) = 0.99 * 0.001 / (0.99 * 0.001 + 0.01 * 0.999) ≈ 0.0909"
   ]
  },
  {
   "cell_type": "code",
   "execution_count": null,
   "id": "88cd200d-7362-4e01-9f5c-330d794719c1",
   "metadata": {},
   "outputs": [],
   "source": []
  },
  {
   "cell_type": "markdown",
   "id": "ccf084f3-53ec-4775-8ee3-c858978aa815",
   "metadata": {},
   "source": [
    "Q5: What is a confidence interval? How to calculate the confidence interval, explain with an example."
   ]
  },
  {
   "cell_type": "markdown",
   "id": "6719d4b6-facd-40bd-a187-484db09d255b",
   "metadata": {},
   "source": [
    "Solution:"
   ]
  },
  {
   "cell_type": "markdown",
   "id": "7313c4bf-c83d-4b3f-9b16-fb1ad3bc830f",
   "metadata": {},
   "source": [
    "A confidence interval is a range of values that is likely to contain the true value of a population parameter with a certain level of confidence.\n",
    "\n",
    "CI = X̄ ± Z * (S / √n)\n",
    "\n",
    "where CI is the confidence interval, X̄ is the sample mean, Z is the Z-value you get from the normal standard distribution (which corresponds to your desired level of confidence), S is the population standard deviation, and n is the sample size.\n",
    "\n"
   ]
  },
  {
   "cell_type": "code",
   "execution_count": 5,
   "id": "75453e38-2c71-4015-8954-e9ba1337ad47",
   "metadata": {},
   "outputs": [],
   "source": [
    "from scipy import stats\n",
    "import math"
   ]
  },
  {
   "cell_type": "code",
   "execution_count": 4,
   "id": "eb547328-77c2-4645-a71f-e35c40741253",
   "metadata": {},
   "outputs": [],
   "source": [
    "# suppose you want to estimate the average height of all students in a school. \n",
    "\n",
    "n = 100\n",
    "\n",
    "sam_mean = 65\n",
    "\n",
    "sam_std = 3\n",
    "\n",
    "sig_level = 0.05"
   ]
  },
  {
   "cell_type": "code",
   "execution_count": 6,
   "id": "d3de0d04-1d41-4a66-97cd-06a45b3fc16e",
   "metadata": {},
   "outputs": [],
   "source": [
    "z = stats.norm.ppf(1-sig_level/2)"
   ]
  },
  {
   "cell_type": "code",
   "execution_count": 7,
   "id": "70385cd4-ab5d-46fe-9746-00458e224d3a",
   "metadata": {},
   "outputs": [
    {
     "data": {
      "text/plain": [
       "1.959963984540054"
      ]
     },
     "execution_count": 7,
     "metadata": {},
     "output_type": "execute_result"
    }
   ],
   "source": [
    "z"
   ]
  },
  {
   "cell_type": "code",
   "execution_count": 15,
   "id": "d9dd11d5-8343-4477-a6bd-fc6b4d0bf98d",
   "metadata": {},
   "outputs": [],
   "source": [
    "def estimate(x,std,n):  # x : mean , std : sample standard deviation , n : sample size\n",
    "    \n",
    "    p_std = std/math.sqrt(n)\n",
    "    l_bound = x - z * p_std\n",
    "    u_bound = x + z * p_std\n",
    "    \n",
    "    return (l_bound,u_bound)"
   ]
  },
  {
   "cell_type": "code",
   "execution_count": 16,
   "id": "039562b7-8182-4471-a402-ffe8462f9803",
   "metadata": {},
   "outputs": [
    {
     "data": {
      "text/plain": [
       "(49.02001800772997, 50.97998199227003)"
      ]
     },
     "execution_count": 16,
     "metadata": {},
     "output_type": "execute_result"
    }
   ],
   "source": [
    "estimate(sam_mean , sam_std , n)"
   ]
  },
  {
   "cell_type": "code",
   "execution_count": null,
   "id": "98ff7b00-5d80-40ea-b58a-6e5a1457e611",
   "metadata": {},
   "outputs": [],
   "source": []
  },
  {
   "cell_type": "markdown",
   "id": "433da8a2-f9ad-4a5b-affe-e54e21632253",
   "metadata": {},
   "source": [
    "Q6. Use Bayes' Theorem to calculate the probability of an event occurring given prior knowledge of the \n",
    "event's probability and new evidence. Provide a sample problem and solution."
   ]
  },
  {
   "cell_type": "markdown",
   "id": "80ced590-3434-4d19-901d-41ecc1e7e07b",
   "metadata": {},
   "source": [
    "Solution:"
   ]
  },
  {
   "cell_type": "markdown",
   "id": "e7382021-9fb9-43b5-8290-75ad119a0fdc",
   "metadata": {},
   "source": [
    "Suppose you are a doctor and you have a patient who has tested positive for a certain disease. The test is known to be 99% accurate, meaning that if someone has the disease, there is a 99% chance that the test will be positive. However, if someone does not have the disease, there is still a 1% chance that the test will be positive. The prevalence of the disease in the population is 1 in 1000 people.\n",
    "\n",
    "Using Bayes’ theorem, we can calculate the probability that the patient actually has the disease given that they have tested positive. Let A be the event that the patient has the disease and B be the event that they test positive. Then we want to calculate P(A|B), which is the probability that the patient has the disease given that they have tested positive.\n",
    "\n",
    "Using Bayes’ theorem, we have:\n",
    "\n",
    "P(A|B) = P(B|A) * P(A) / P(B)\n",
    "\n",
    "where P(B|A) is the probability of testing positive given that the patient has the disease (which is 0.99), P(A) is the prevalence of the disease (which is 0.001), and P(B) is the probability of testing positive (which can be calculated using the law of total probability as P(B|A) * P(A) + P(B|not A) * P(not A), where not A means “does not have the disease”).\n",
    "\n",
    "Plugging in these values, we get:\n",
    "\n",
    "P(A|B) = 0.99 * 0.001 / (0.99 * 0.001 + 0.01 * 0.999) ≈ 0.0909"
   ]
  },
  {
   "cell_type": "code",
   "execution_count": null,
   "id": "ab51526b-1307-41d8-b4b5-7a22d0d8721d",
   "metadata": {},
   "outputs": [],
   "source": []
  },
  {
   "cell_type": "markdown",
   "id": "0572dadd-aaed-4bb7-b3c4-e1ec5290c8f3",
   "metadata": {},
   "source": [
    "Q7. Calculate the 95% confidence interval for a sample of data with a mean of 50 and a standard deviation \n",
    "of 5. Interpret the results."
   ]
  },
  {
   "cell_type": "markdown",
   "id": "5abcac93-1ced-4ef1-a693-39a14eff6e20",
   "metadata": {},
   "source": [
    "Solution:"
   ]
  },
  {
   "cell_type": "code",
   "execution_count": 17,
   "id": "1d3a61b3-c16d-4fa6-b2e5-b410d61ec1be",
   "metadata": {},
   "outputs": [],
   "source": [
    "sig_level = 0.05\n",
    "sam_mean = 50\n",
    "sam_std = 5\n",
    "n = 100"
   ]
  },
  {
   "cell_type": "code",
   "execution_count": 18,
   "id": "1c3c6bb9-287e-485a-8b9e-b06435d44fbf",
   "metadata": {},
   "outputs": [],
   "source": [
    "z = stats.norm.ppf(1-sig_level/2)"
   ]
  },
  {
   "cell_type": "code",
   "execution_count": 19,
   "id": "8705c54b-88f5-4ab9-bb77-d9be983f51ac",
   "metadata": {},
   "outputs": [
    {
     "data": {
      "text/plain": [
       "1.959963984540054"
      ]
     },
     "execution_count": 19,
     "metadata": {},
     "output_type": "execute_result"
    }
   ],
   "source": [
    "z"
   ]
  },
  {
   "cell_type": "code",
   "execution_count": 20,
   "id": "e7496e7d-cd19-4dfb-a097-062a815a602b",
   "metadata": {},
   "outputs": [],
   "source": [
    "def estimate(x,std,n):  # x : mean , std : sample standard deviation , n : sample size\n",
    "    \n",
    "    p_std = std/math.sqrt(n)\n",
    "    l_bound = x - z * p_std\n",
    "    u_bound = x + z * p_std\n",
    "    \n",
    "    return (l_bound,u_bound)"
   ]
  },
  {
   "cell_type": "code",
   "execution_count": 21,
   "id": "26225b1e-4cb5-43de-ac23-08f585bffd59",
   "metadata": {},
   "outputs": [
    {
     "data": {
      "text/plain": [
       "(49.02001800772997, 50.97998199227003)"
      ]
     },
     "execution_count": 21,
     "metadata": {},
     "output_type": "execute_result"
    }
   ],
   "source": [
    "estimate(sam_mean , sam_std , n)"
   ]
  },
  {
   "cell_type": "code",
   "execution_count": null,
   "id": "67957ee0-45de-40a8-9922-fa90a73457b5",
   "metadata": {},
   "outputs": [],
   "source": []
  },
  {
   "cell_type": "markdown",
   "id": "1824de5c-257b-4c51-aa60-82bcfd481c87",
   "metadata": {},
   "source": [
    "Q8. What is the margin of error in a confidence interval? How does sample size affect the margin of error? \n",
    "Provide an example of a scenario where a larger sample size would result in a smaller margin of error"
   ]
  },
  {
   "cell_type": "markdown",
   "id": "8deee351-d637-4971-8bbf-157de374cbc1",
   "metadata": {},
   "source": [
    "Solution:"
   ]
  },
  {
   "cell_type": "markdown",
   "id": "c74a7bec-d9ac-4e79-a116-496d56d0b2bd",
   "metadata": {},
   "source": [
    "The margin of error is the range of values below and above the sample statistic in a confidence interval. The margin of error is equal to half the width of the entire confidence interval.\n",
    "\n",
    "Sample size affects the margin of error in that as sample size increases, the margin of error decreases.\n",
    "\n",
    "For example, suppose we want to estimate the proportion of people in a city who support a particular policy. We take a random sample of 100 people and find that 60% support the policy. We want to construct a 95% confidence interval for the true proportion of people who support the policy. Using the formula for a confidence interval for a proportion, we get:\n",
    "\n",
    "95% confidence interval = 0.60 ± 1.96 * sqrt(0.60 * (1 - 0.60) / 100)\n",
    "\n",
    "95% confidence interval = [0.50, 0.70]\n",
    "\n",
    "The margin of error for this confidence interval is equal to half the width, which would be (0.70 - 0.50) / 2 = 0.101.\n",
    "\n",
    "Suppose we now take a random sample of 500 people instead and find that 60% support the policy again. Using the same formula as before, we get:\n",
    "\n",
    "95% confidence interval = 0.60 ± 1.96 * sqrt(0.60 * (1 - 0.60) / 500)\n",
    "\n",
    "95% confidence interval = [0.55, 0.65]\n",
    "\n",
    "The margin of error for this confidence interval is equal to half the width, which would be (0.65 - 0.55) / 2 = 0.053.\n",
    "\n",
    "As you can see from this example, increasing the sample size from n=100 to n=500 resulted in a smaller margin of error (from 0.10 to 0.05). \n"
   ]
  },
  {
   "cell_type": "code",
   "execution_count": null,
   "id": "7d867d0d-07dc-4561-b0cc-213ab521cc43",
   "metadata": {},
   "outputs": [],
   "source": []
  },
  {
   "cell_type": "markdown",
   "id": "fc91df06-806c-4908-8bfd-118b9bd375d0",
   "metadata": {},
   "source": [
    "Q9. Calculate the z-score for a data point with a value of 75, a population mean of 70, and a population \n",
    "standard deviation of 5. Interpret the results."
   ]
  },
  {
   "cell_type": "markdown",
   "id": "ca32814d-3323-4f89-9c6f-640f9eaf3a7b",
   "metadata": {},
   "source": [
    "Solution:"
   ]
  },
  {
   "cell_type": "code",
   "execution_count": 22,
   "id": "48e4780e-57a8-484c-b069-e9269f9bedba",
   "metadata": {},
   "outputs": [],
   "source": [
    "pop_mean = 70\n",
    "x = 75\n",
    "pop_std = 5"
   ]
  },
  {
   "cell_type": "code",
   "execution_count": 23,
   "id": "9b73a4ff-d915-4deb-9f57-b0f5030b30d2",
   "metadata": {},
   "outputs": [],
   "source": [
    "z = (x - pop_mean)/pop_std"
   ]
  },
  {
   "cell_type": "code",
   "execution_count": 24,
   "id": "9d8a095d-5293-47c7-b181-9812ea504023",
   "metadata": {},
   "outputs": [
    {
     "data": {
      "text/plain": [
       "1.0"
      ]
     },
     "execution_count": 24,
     "metadata": {},
     "output_type": "execute_result"
    }
   ],
   "source": [
    "z"
   ]
  },
  {
   "cell_type": "code",
   "execution_count": null,
   "id": "c324b5a0-d171-4dda-a10f-9411f3f1ed07",
   "metadata": {},
   "outputs": [],
   "source": [
    "\n"
   ]
  },
  {
   "cell_type": "markdown",
   "id": "9b237788-4b45-4985-b799-28aff0773ed7",
   "metadata": {},
   "source": [
    "Q10. In a study of the effectiveness of a new weight loss drug, a sample of 50 participants lost an average \n",
    "of 6 pounds with a standard deviation of 2.5 pounds. Conduct a hypothesis test to determine if the drug is \n",
    "significantly effective at a 95% confidence level using a t-test."
   ]
  },
  {
   "cell_type": "markdown",
   "id": "37d019eb-a6a1-4a4c-a9ad-acd1139be71c",
   "metadata": {},
   "source": [
    "Solution:"
   ]
  },
  {
   "cell_type": "code",
   "execution_count": 25,
   "id": "db70f782-bdd2-4593-8602-7acab62b00cc",
   "metadata": {},
   "outputs": [],
   "source": [
    "# H0 : drug is not effective\n",
    "\n",
    "# H1 : drug is effective"
   ]
  },
  {
   "cell_type": "code",
   "execution_count": 37,
   "id": "8c5a67c8-0888-4a52-b533-226debe0cfe4",
   "metadata": {},
   "outputs": [],
   "source": [
    "sam_size = 50\n",
    "sam_mean = 6\n",
    "sam_std = 2.5\n",
    "\n",
    "sig_level = 0.05"
   ]
  },
  {
   "cell_type": "code",
   "execution_count": 45,
   "id": "83153ffb-06b3-4fad-9bfc-9c63c8a63141",
   "metadata": {},
   "outputs": [],
   "source": [
    "critical_value = stats.t.ppf(q = 1-sig_level/2 , df = sam_size-1)"
   ]
  },
  {
   "cell_type": "code",
   "execution_count": 46,
   "id": "70b68909-3e93-45a0-b903-fa3af2bab79c",
   "metadata": {},
   "outputs": [
    {
     "data": {
      "text/plain": [
       "2.009575234489209"
      ]
     },
     "execution_count": 46,
     "metadata": {},
     "output_type": "execute_result"
    }
   ],
   "source": [
    "critical_value"
   ]
  },
  {
   "cell_type": "code",
   "execution_count": 40,
   "id": "4b5a632a-9971-449c-8199-e87a0a8b940f",
   "metadata": {},
   "outputs": [],
   "source": [
    "t =   (6-0)/(sam_std/(sam_size**0.5))"
   ]
  },
  {
   "cell_type": "code",
   "execution_count": 41,
   "id": "1c40042e-a023-49f1-9aa4-af5f13b36793",
   "metadata": {},
   "outputs": [
    {
     "data": {
      "text/plain": [
       "16.970562748477143"
      ]
     },
     "execution_count": 41,
     "metadata": {},
     "output_type": "execute_result"
    }
   ],
   "source": [
    "t"
   ]
  },
  {
   "cell_type": "code",
   "execution_count": 42,
   "id": "a3d9e87a-a46c-4e70-b85c-6b23b3e32e4c",
   "metadata": {},
   "outputs": [
    {
     "name": "stdout",
     "output_type": "stream",
     "text": [
      "null hypothesis is rejected\n"
     ]
    }
   ],
   "source": [
    "if t > critical_value or t < -critical_value:\n",
    "    print(\"null hypothesis is rejected\")\n",
    "    \n",
    "else:\n",
    "    print(\"fail to reject null hypothesis\")"
   ]
  },
  {
   "cell_type": "code",
   "execution_count": null,
   "id": "bc94ef00-754c-46ff-9fb9-1a15d3580a38",
   "metadata": {},
   "outputs": [],
   "source": []
  },
  {
   "cell_type": "markdown",
   "id": "d5ccc3b3-d479-497b-be7c-784f417543ba",
   "metadata": {},
   "source": [
    "Q11. In a survey of 500 people, 65% reported being satisfied with their current job. Calculate the 95% \n",
    "confidence interval for the true proportion of people who are satisfied with their job."
   ]
  },
  {
   "cell_type": "markdown",
   "id": "c54c842c-0b0e-4744-a9c2-c4db07354f4d",
   "metadata": {},
   "source": [
    "Solution:"
   ]
  },
  {
   "cell_type": "code",
   "execution_count": 47,
   "id": "8a51dba0-9d3d-490e-b83a-a316c0232a40",
   "metadata": {},
   "outputs": [],
   "source": [
    "sam_size = 500\n",
    "sig_level = 0.05"
   ]
  },
  {
   "cell_type": "code",
   "execution_count": 54,
   "id": "a49821f5-912a-4797-a3fb-f86c575f9c9d",
   "metadata": {},
   "outputs": [],
   "source": [
    "lower_bound = 0.65 - 1.96* math.sqrt(0.65 * (1-0.65) / (sam_size))"
   ]
  },
  {
   "cell_type": "code",
   "execution_count": 55,
   "id": "042566a9-0764-4b29-a711-18ba216197eb",
   "metadata": {},
   "outputs": [
    {
     "data": {
      "text/plain": [
       "0.608191771144905"
      ]
     },
     "execution_count": 55,
     "metadata": {},
     "output_type": "execute_result"
    }
   ],
   "source": [
    "lower_bound"
   ]
  },
  {
   "cell_type": "code",
   "execution_count": 56,
   "id": "5c64b7d1-9552-4a3e-9020-cf107163b621",
   "metadata": {},
   "outputs": [],
   "source": [
    "upper_bound = 0.65 + 1.96* math.sqrt(0.65 * (1-0.65) / (sam_size))"
   ]
  },
  {
   "cell_type": "code",
   "execution_count": 57,
   "id": "5aefff34-3035-4b8b-b3b0-33e2ea11bdaf",
   "metadata": {},
   "outputs": [
    {
     "data": {
      "text/plain": [
       "0.6918082288550951"
      ]
     },
     "execution_count": 57,
     "metadata": {},
     "output_type": "execute_result"
    }
   ],
   "source": [
    "upper_bound"
   ]
  },
  {
   "cell_type": "code",
   "execution_count": 58,
   "id": "6ef279d3-ea26-44e8-8821-016639ad44c6",
   "metadata": {},
   "outputs": [],
   "source": [
    "confidence_interval = (lower_bound , upper_bound)"
   ]
  },
  {
   "cell_type": "code",
   "execution_count": 59,
   "id": "bf3b63c4-e2b2-4621-93d2-5137eb3fe84a",
   "metadata": {},
   "outputs": [
    {
     "data": {
      "text/plain": [
       "(0.608191771144905, 0.6918082288550951)"
      ]
     },
     "execution_count": 59,
     "metadata": {},
     "output_type": "execute_result"
    }
   ],
   "source": [
    "confidence_interval"
   ]
  },
  {
   "cell_type": "code",
   "execution_count": null,
   "id": "1eede25e-eda9-45ce-9bcf-731dd61912cb",
   "metadata": {},
   "outputs": [],
   "source": []
  },
  {
   "cell_type": "markdown",
   "id": "87acff3a-ef04-47c1-8f6e-8a40e844a736",
   "metadata": {},
   "source": [
    "Q12. A researcher is testing the effectiveness of two different teaching methods on student performance. \n",
    "Sample A has a mean score of 85 with a standard deviation of 6, while sample B has a mean score of 82 \n",
    "with a standard deviation of 5. Conduct a hypothesis test to determine if the two teaching methods have a \n",
    "significant difference in student performance using a t-test with a significance level of 0.01."
   ]
  },
  {
   "cell_type": "markdown",
   "id": "84ecd27a-82e4-42d7-a6e9-0f6c7ee5d828",
   "metadata": {},
   "source": [
    "Solution:"
   ]
  },
  {
   "cell_type": "code",
   "execution_count": 60,
   "id": "7b518527-32c5-4e42-8715-0dae07baaf77",
   "metadata": {},
   "outputs": [],
   "source": [
    "meanA = 85\n",
    "stdA = 6\n",
    "\n",
    "meanB = 82\n",
    "stdB = 5\n",
    "\n",
    "sig_level = 0.01"
   ]
  },
  {
   "cell_type": "code",
   "execution_count": 61,
   "id": "1aa77d32-bd00-4152-93ea-4a13ca6f3524",
   "metadata": {},
   "outputs": [],
   "source": [
    "t = (meanA-meanB) / math.sqrt((stdA**2 / 50) + (stdB**2 / 50))"
   ]
  },
  {
   "cell_type": "code",
   "execution_count": 62,
   "id": "e986172f-ec4d-4b89-ad56-955d453678c3",
   "metadata": {},
   "outputs": [
    {
     "data": {
      "text/plain": [
       "2.716072381275556"
      ]
     },
     "execution_count": 62,
     "metadata": {},
     "output_type": "execute_result"
    }
   ],
   "source": [
    "t"
   ]
  },
  {
   "cell_type": "code",
   "execution_count": 74,
   "id": "1005d809-aab5-408d-b3cd-625ce58fc4f8",
   "metadata": {},
   "outputs": [],
   "source": [
    "critical_value = stats.t.ppf(q = 1-sig_level/2 , df = 98)"
   ]
  },
  {
   "cell_type": "code",
   "execution_count": 75,
   "id": "57def00e-f450-49af-af47-a82968951104",
   "metadata": {},
   "outputs": [
    {
     "data": {
      "text/plain": [
       "2.626931094814024"
      ]
     },
     "execution_count": 75,
     "metadata": {},
     "output_type": "execute_result"
    }
   ],
   "source": [
    "critical_value"
   ]
  },
  {
   "cell_type": "code",
   "execution_count": 76,
   "id": "72d9e096-6006-4c72-9354-578c367d3dd2",
   "metadata": {},
   "outputs": [
    {
     "name": "stdout",
     "output_type": "stream",
     "text": [
      "null hypthesis rejected\n"
     ]
    }
   ],
   "source": [
    "if t > critical_value or t < -critical_value:\n",
    "    print(\"null hypthesis rejected\")\n",
    "    \n",
    "else:\n",
    "    print(\"Fail to reject null hypothesis\")"
   ]
  },
  {
   "cell_type": "code",
   "execution_count": null,
   "id": "f700b876-8e2d-459f-8c93-4f4201fa96b3",
   "metadata": {},
   "outputs": [],
   "source": []
  },
  {
   "cell_type": "markdown",
   "id": "f77458a1-c395-4318-bcb5-1c88d66d57d8",
   "metadata": {},
   "source": [
    "Q13. A population has a mean of 60 and a standard deviation of 8. A sample of 50 observations has a mean \n",
    "of 65. Calculate the 90% confidence interval for the true population mean"
   ]
  },
  {
   "cell_type": "markdown",
   "id": "0da7af74-06b3-4c2f-97eb-aed3f5269ec1",
   "metadata": {},
   "source": [
    "Solution:"
   ]
  },
  {
   "cell_type": "code",
   "execution_count": 77,
   "id": "57e2812d-8268-4a84-8990-9d77bd393a6f",
   "metadata": {},
   "outputs": [],
   "source": [
    "pop_mean = 60\n",
    "pop_std = 8\n",
    "\n",
    "sam_size = 50\n",
    "sam_mean = 65\n",
    "sig_level = 0.1"
   ]
  },
  {
   "cell_type": "code",
   "execution_count": 78,
   "id": "dee0bb04-b9bf-4a60-985b-181d00e6bdde",
   "metadata": {},
   "outputs": [],
   "source": [
    "z = stats.norm.ppf(1-sig_level/2)"
   ]
  },
  {
   "cell_type": "code",
   "execution_count": 79,
   "id": "f2816b66-fe22-4f00-9e99-392140af835e",
   "metadata": {},
   "outputs": [
    {
     "data": {
      "text/plain": [
       "1.6448536269514722"
      ]
     },
     "execution_count": 79,
     "metadata": {},
     "output_type": "execute_result"
    }
   ],
   "source": [
    "z"
   ]
  },
  {
   "cell_type": "code",
   "execution_count": 80,
   "id": "901179fe-c518-4e98-8982-2a92b36859b9",
   "metadata": {},
   "outputs": [],
   "source": [
    "lower_bound = sam_mean - z * (pop_std / math.sqrt(sam_size))"
   ]
  },
  {
   "cell_type": "code",
   "execution_count": 81,
   "id": "935cd6d9-46b7-49ea-bce2-f7ef438afd13",
   "metadata": {},
   "outputs": [
    {
     "data": {
      "text/plain": [
       "63.13906055411732"
      ]
     },
     "execution_count": 81,
     "metadata": {},
     "output_type": "execute_result"
    }
   ],
   "source": [
    "lower_bound"
   ]
  },
  {
   "cell_type": "code",
   "execution_count": 82,
   "id": "e3fc6712-2bc2-482c-88b1-ef998eec742e",
   "metadata": {},
   "outputs": [],
   "source": [
    "upper_bound = sam_mean + z * (pop_std / math.sqrt(sam_size))"
   ]
  },
  {
   "cell_type": "code",
   "execution_count": 83,
   "id": "a589eb1c-8c47-4828-94d5-b7cf6ed8d1f1",
   "metadata": {},
   "outputs": [
    {
     "data": {
      "text/plain": [
       "66.86093944588268"
      ]
     },
     "execution_count": 83,
     "metadata": {},
     "output_type": "execute_result"
    }
   ],
   "source": [
    "upper_bound"
   ]
  },
  {
   "cell_type": "code",
   "execution_count": 86,
   "id": "1c27c3c1-f4cd-42c1-a049-fd869252b98b",
   "metadata": {},
   "outputs": [],
   "source": [
    "CI = [lower_bound , upper_bound]"
   ]
  },
  {
   "cell_type": "code",
   "execution_count": 87,
   "id": "6a096664-3003-49f1-aca0-361eba719aa2",
   "metadata": {},
   "outputs": [
    {
     "data": {
      "text/plain": [
       "[63.13906055411732, 66.86093944588268]"
      ]
     },
     "execution_count": 87,
     "metadata": {},
     "output_type": "execute_result"
    }
   ],
   "source": [
    "CI"
   ]
  },
  {
   "cell_type": "code",
   "execution_count": null,
   "id": "220d8f12-38c7-4349-a56e-e28edefb9fd6",
   "metadata": {},
   "outputs": [],
   "source": []
  },
  {
   "cell_type": "markdown",
   "id": "b5010965-b7de-43d4-ac7d-5d1533ebb9f9",
   "metadata": {},
   "source": [
    "Q14. In a study of the effects of caffeine on reaction time, a sample of 30 participants had an average \n",
    "reaction time of 0.25 seconds with a standard deviation of 0.05 seconds. Conduct a hypothesis test to \n",
    "determine if the caffeine has a significant effect on reaction time at a 90% confidence level using a t-test."
   ]
  },
  {
   "cell_type": "markdown",
   "id": "02de926f-7e0d-4c96-a7bc-59091b592183",
   "metadata": {},
   "source": [
    "Solution:"
   ]
  },
  {
   "cell_type": "code",
   "execution_count": 89,
   "id": "d1b174a0-8dc6-4480-84e6-41c12984fe99",
   "metadata": {},
   "outputs": [],
   "source": [
    "sam_size = 30\n",
    "sam_mean = 0.25\n",
    "\n",
    "sam_std = 0.05\n",
    "\n",
    "sig_level = 0.1"
   ]
  },
  {
   "cell_type": "code",
   "execution_count": 91,
   "id": "f08fa71d-33d8-4fb2-a184-47229aaf11be",
   "metadata": {},
   "outputs": [],
   "source": [
    "critical_value = stats.t.ppf(q=1-sig_level/2 , df = 29)"
   ]
  },
  {
   "cell_type": "code",
   "execution_count": 92,
   "id": "e8b31fd3-53af-4597-b9d5-3d0bf81b69ce",
   "metadata": {},
   "outputs": [
    {
     "data": {
      "text/plain": [
       "1.6991270265334972"
      ]
     },
     "execution_count": 92,
     "metadata": {},
     "output_type": "execute_result"
    }
   ],
   "source": [
    "critical_value"
   ]
  },
  {
   "cell_type": "code",
   "execution_count": 93,
   "id": "27448589-b45e-48ad-99f1-1c95dea34de8",
   "metadata": {},
   "outputs": [],
   "source": [
    "t = (sam_mean - 0) / (sam_std / math.sqrt(sam_size))"
   ]
  },
  {
   "cell_type": "code",
   "execution_count": 94,
   "id": "6d1a7dac-2283-436a-bb2d-81844885dcfe",
   "metadata": {},
   "outputs": [
    {
     "data": {
      "text/plain": [
       "27.386127875258307"
      ]
     },
     "execution_count": 94,
     "metadata": {},
     "output_type": "execute_result"
    }
   ],
   "source": [
    "t"
   ]
  },
  {
   "cell_type": "code",
   "execution_count": null,
   "id": "5a5d1e4a-78fb-40ec-93e5-6accadb94ff9",
   "metadata": {},
   "outputs": [],
   "source": []
  }
 ],
 "metadata": {
  "kernelspec": {
   "display_name": "Python 3 (ipykernel)",
   "language": "python",
   "name": "python3"
  },
  "language_info": {
   "codemirror_mode": {
    "name": "ipython",
    "version": 3
   },
   "file_extension": ".py",
   "mimetype": "text/x-python",
   "name": "python",
   "nbconvert_exporter": "python",
   "pygments_lexer": "ipython3",
   "version": "3.10.8"
  }
 },
 "nbformat": 4,
 "nbformat_minor": 5
}
